{
 "cells": [
  {
   "cell_type": "code",
   "execution_count": 1,
   "metadata": {},
   "outputs": [],
   "source": [
    "from src.tokenizers import *\n",
    "import os\n",
    "from src.sascorer import *\n",
    "\n",
    "from rdkit.Chem import MolFromSmiles, QED\n",
    "\n",
    "from IPython.display import display\n",
    "import json\n",
    "import numpy as np\n",
    "import matplotlib.pyplot as plt\n",
    "\n",
    "from scipy.stats import pearsonr, spearmanr"
   ]
  },
  {
   "cell_type": "code",
   "execution_count": 2,
   "metadata": {},
   "outputs": [],
   "source": [
    "\n",
    "tokenizer = GroupSelfiesTokenizer(\"tokens/zinc_gs_grammar.txt\")"
   ]
  },
  {
   "cell_type": "code",
   "execution_count": null,
   "metadata": {},
   "outputs": [],
   "source": [
    "\n",
    "def score_smile(s):\n",
    "    mol = Chem.MolFromSmiles(s)\n",
    "    sa = calculateScore(mol)\n",
    "    qed = QED.qed(mol)\n",
    "    return sa, qed\n",
    "\n",
    "def print_info_gs(s, sa, qed):\n",
    "    enc = tokenizer.encoder(s)\n",
    "    mol= tokenizer.grammar.decoder(enc)\n",
    "    print(\"SA\", sa)\n",
    "    print(\"QA\", )\n",
    "    print(\"GroupSelfies: \", enc)\n",
    "    print(\"Selfies: \", sf.encoder(s))\n",
    "    display(mol)"
   ]
  },
  {
   "cell_type": "code",
   "execution_count": 77,
   "metadata": {},
   "outputs": [
    {
     "name": "stdout",
     "output_type": "stream",
     "text": [
      "Spearman R; selfies; BA vs SA SignificanceResult(statistic=-0.4040750544483567, pvalue=1.3229850074232018e-13)\n",
      "Spearman R; selfies; BA vs QED SignificanceResult(statistic=-0.43842071997358295, pvalue=5.413255415460568e-16)\n"
     ]
    }
   ],
   "source": [
    "gen_mols = pickle.load(open(\"temp_outs/gen_mols_selfies.pkl\",\"rb\"))\n",
    "\n",
    "props = []\n",
    "for i in range(len(gen_mols)):\n",
    "    sa, qed = score_smile(gen_mols[i][1])\n",
    "    props.append([gen_mols[i][0], sa, qed])\n",
    "\n",
    "props_sf = np.array(props)\n",
    "\n",
    "print(len(props_sf))\n",
    "print(\"Spearman R; selfies; BA vs SA\", spearmanr(props_sf[:,0], props_sf[:,1]))\n",
    "print(\"Spearman R; selfies; BA vs QED\", spearmanr(props_sf[:,0], props_sf[:,2]))\n"
   ]
  },
  {
   "cell_type": "code",
   "execution_count": 88,
   "metadata": {},
   "outputs": [
    {
     "name": "stdout",
     "output_type": "stream",
     "text": [
      "Spearman R; group-selfies zinc; BA vs SA SignificanceResult(statistic=-0.4576572412696392, pvalue=1.5382104487417086e-18)\n",
      "Spearman R; group-selfies zinc; BA vs QED SignificanceResult(statistic=-0.026256107963458557, pvalue=0.6341007503147635)\n"
     ]
    }
   ],
   "source": [
    "gen_mols = pickle.load(open(\"temp_outs/gen_mols_gs_zinc.pkl\",\"rb\"))\n",
    "\n",
    "props = []\n",
    "for i in range(len(gen_mols)):\n",
    "    sa, qed = score_smile(gen_mols[i][1])\n",
    "    props.append([gen_mols[i][0], sa, qed])\n",
    "\n",
    "props_gs_zinc = np.array(props)\n",
    "\n",
    "\n",
    "print(len(props_gs_zinc))\n",
    "print(\"Spearman R; group-selfies zinc; BA vs SA\", spearmanr(props_gs_zinc[:,0], props_gs_zinc[:,1]))\n",
    "print(\"Spearman R; group-selfies zinc; BA vs QED\", spearmanr(props_gs_zinc[:,0], props_gs_zinc[:,2]))"
   ]
  },
  {
   "cell_type": "code",
   "execution_count": 94,
   "metadata": {},
   "outputs": [
    {
     "data": {
      "image/png": "[encoded data removed]",
      "text/plain": [
       "<Figure size 640x480 with 1 Axes>"
      ]
     },
     "metadata": {},
     "output_type": "display_data"
    }
   ],
   "source": [
    "plt.figure()\n",
    "plt.title(\"Histogram of SA\")\n",
    "plt.hist(props_sf[:, 1], 20, alpha=0.5, density=True, label=\"selfies\")\n",
    "plt.hist(props_gs_zinc[:, 1], 20, alpha=0.5, density=True, label=\"groupseflies\")\n",
    "plt.xlabel(\"SA\")\n",
    "plt.ylabel(\"p\")\n",
    "plt.legend()\n",
    "plt.show()"
   ]
  },
  {
   "cell_type": "code",
   "execution_count": null,
   "metadata": {},
   "outputs": [],
   "source": []
  },
  {
   "cell_type": "code",
   "execution_count": null,
   "metadata": {},
   "outputs": [],
   "source": [
    "ss = [\"CC[C@H](C)CN(C)[C@@H]1CC(=O)c2sc(OC(=O)[C@H](C)NC(C)=O)nc2C1\", \n",
    "      \"[CH]C1(P[C@](C)(O)[C@H](C)CC)CC(=O)c2sc(Br)nc2C1\", \n",
    "      \"CC[C@@H](C)[C@@](C)(O)c1nn(Br)c2c1C(=O)C[C@H](Br)C2\"]\n",
    "\n",
    "for s in ss:\n",
    "    score_smile(s)"
   ]
  },
  {
   "cell_type": "code",
   "execution_count": null,
   "metadata": {},
   "outputs": [],
   "source": []
  },
  {
   "cell_type": "code",
   "execution_count": null,
   "metadata": {},
   "outputs": [],
   "source": [
    "def clean_smarts(x):\n",
    "    return Chem.MolFromSmiles(sf.decoder(sf.encoder(Chem.MolToSmiles(Chem.MolFromSmarts(x)))))"
   ]
  },
  {
   "cell_type": "code",
   "execution_count": null,
   "metadata": {},
   "outputs": [],
   "source": [
    "display(clean_smarts(\"[CH0;$(C-[#6]):1]\"))\n",
    "display(clean_smarts(\"[NH0:2]\"))\n",
    "\n",
    "display(clean_smarts(\"[C:1]1=[N:2]-N-N=N-1\"))"
   ]
  },
  {
   "cell_type": "code",
   "execution_count": null,
   "metadata": {},
   "outputs": [],
   "source": [
    "rxn_string = \"[CH3:14][NH2:15].[N+:1](=[O:2])([O-:3])[c:4]1[cH:5][c:6]([C:7](=[O:8])[OH:9])[cH:10][cH:11][c:12]1[Cl:13].[OH2:16]>>[N+:1](=[O:2])([O-:3])[c:4]1[cH:5][c:6]([C:7](=[O:8])[OH:9])[cH:10][cH:11][c:12]1[NH:15][CH3:14]\"\n",
    "\n",
    "for x in rxn_string.split(\">>\"):\n",
    "    for u in x.split(\".\"):\n",
    "        display(Chem.MolFromSmiles(sf.decoder(sf.encoder(u))))"
   ]
  },
  {
   "cell_type": "code",
   "execution_count": 18,
   "metadata": {},
   "outputs": [],
   "source": [
    "x = pickle.load(open(\"property_models/sa_gs_zinc_x\", \"rb\"))"
   ]
  },
  {
   "cell_type": "code",
   "execution_count": 19,
   "metadata": {},
   "outputs": [
    {
     "data": {
      "text/plain": [
       "tensor([[0.0032, 0.0032, 0.0034,  ..., 0.0034, 0.0034, 0.0034],\n",
       "        [0.0032, 0.0032, 0.0034,  ..., 0.0034, 0.0033, 0.0033],\n",
       "        [0.0033, 0.0033, 0.0034,  ..., 0.0034, 0.0033, 0.0032],\n",
       "        ...,\n",
       "        [0.0032, 0.0032, 0.0034,  ..., 0.0033, 0.0034, 0.0033],\n",
       "        [0.0033, 0.0032, 0.0034,  ..., 0.0034, 0.0034, 0.0033],\n",
       "        [0.0032, 0.0033, 0.0034,  ..., 0.0035, 0.0034, 0.0034]])"
      ]
     },
     "execution_count": 19,
     "metadata": {},
     "output_type": "execute_result"
    }
   ],
   "source": [
    "x"
   ]
  },
  {
   "cell_type": "code",
   "execution_count": 15,
   "metadata": {},
   "outputs": [
    {
     "data": {
      "text/plain": [
       "tensor(0.0001, grad_fn=<StdBackward0>)"
      ]
     },
     "execution_count": 15,
     "metadata": {},
     "output_type": "execute_result"
    }
   ],
   "source": [
    "import torch\n",
    "from src.models import *\n",
    "\n",
    "vae = VAE(max_len=75, vocab_len=304, latent_dim=1024, embedding_dim=64).to(torch.device(\"cpu\"))\n",
    "vae.load_state_dict(torch.load(f'vae_gs_zinc.pt'))\n",
    "vae.eval()   \n",
    "torch.exp(vae.decode(torch.randn(10, 1024))).std()"
   ]
  },
  {
   "cell_type": "code",
   "execution_count": 14,
   "metadata": {},
   "outputs": [
    {
     "data": {
      "text/plain": [
       "tensor(0.0839, grad_fn=<StdBackward0>)"
      ]
     },
     "execution_count": 14,
     "metadata": {},
     "output_type": "execute_result"
    }
   ],
   "source": [
    "vae = VAE(max_len=72, vocab_len=108, latent_dim=1024, embedding_dim=64).to(torch.device(\"cpu\"))\n",
    "vae.load_state_dict(torch.load(f'vae_selfies.pt'))\n",
    "vae.eval()   \n",
    "torch.exp(vae.decode(torch.randn(10, 1024))).std()"
   ]
  },
  {
   "cell_type": "code",
   "execution_count": 2,
   "metadata": {},
   "outputs": [
    {
     "data": {
      "text/plain": [
       "tensor(-4.6958, grad_fn=<MeanBackward0>)"
      ]
     },
     "execution_count": 2,
     "metadata": {},
     "output_type": "execute_result"
    }
   ],
   "source": [
    "from src.models import *\n",
    "vae = VAE(max_len=72, vocab_len=108, latent_dim=1024, embedding_dim=64).to(torch.device(\"cpu\"))\n",
    "vae.decode(torch.randn(10, 1024)).mean()"
   ]
  },
  {
   "cell_type": "code",
   "execution_count": null,
   "metadata": {},
   "outputs": [],
   "source": []
  }
 ],
 "metadata": {
  "kernelspec": {
   "display_name": "limo",
   "language": "python",
   "name": "python3"
  },
  "language_info": {
   "codemirror_mode": {
    "name": "ipython",
    "version": 3
   },
   "file_extension": ".py",
   "mimetype": "text/x-python",
   "name": "python",
   "nbconvert_exporter": "python",
   "pygments_lexer": "ipython3",
   "version": "3.11.3"
  },
  "orig_nbformat": 4
 },
 "nbformat": 4,
 "nbformat_minor": 2
}
